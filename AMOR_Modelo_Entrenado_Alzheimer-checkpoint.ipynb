{
 "cells": [
  {
   "cell_type": "code",
   "execution_count": null,
   "id": "fa85a3a7",
   "metadata": {},
   "outputs": [],
   "source": [
    "import numpy as np\n",
    "import matplotlib.pyplot as plt\n",
    "import pandas as pd\n",
    "from scipy.integrate import quad\n",
    "from math import sin, pi"
   ]
  },
  {
   "cell_type": "code",
   "execution_count": null,
   "id": "8c41583a",
   "metadata": {},
   "outputs": [],
   "source": [
    "# Parámetros del modelo\n",
    "N_MODOS = 37\n",
    "N_SANOS = 5\n",
    "N_ALZHEIMER = 5\n",
    "np.random.seed(42)"
   ]
  },
  {
   "cell_type": "code",
   "execution_count": null,
   "id": "80b4a686",
   "metadata": {},
   "outputs": [],
   "source": [
    "# Simulación de datos\n",
    "datos_sanos = np.random.normal(loc=1.0, scale=0.05, size=(N_SANOS, N_MODOS))\n",
    "datos_alzheimer = np.random.normal(loc=0.85, scale=0.1, size=(N_ALZHEIMER, N_MODOS))"
   ]
  },
  {
   "cell_type": "code",
   "execution_count": null,
   "id": "0ffe320c",
   "metadata": {},
   "outputs": [],
   "source": [
    "# Función para crear fibras\n",
    "def make_fiber(frequency, weight):\n",
    "    return lambda t: weight * sin(2 * pi * frequency * t)\n",
    "\n",
    "def calcular_firma_AMOR(fibras):\n",
    "    firmas = []\n",
    "    for sujeto in fibras:\n",
    "        firma = 0\n",
    "        for i in range(N_MODOS):\n",
    "            fiber_func = make_fiber(frequency=10 + i, weight=sujeto[i])\n",
    "            integral, _ = quad(fiber_func, 0, 1)\n",
    "            firma += integral\n",
    "        firmas.append(firma)\n",
    "    return np.array(firmas)"
   ]
  },
  {
   "cell_type": "code",
   "execution_count": null,
   "id": "df5850df",
   "metadata": {},
   "outputs": [],
   "source": [
    "# Firmas sin corrección\n",
    "firmas_sanos = calcular_firma_AMOR(datos_sanos)\n",
    "firmas_alzheimer = calcular_firma_AMOR(datos_alzheimer)\n",
    "\n",
    "# Vector promedio sano\n",
    "promedio_sano = np.mean(datos_sanos, axis=0)\n",
    "datos_alzheimer_corr = datos_alzheimer + (promedio_sano - datos_alzheimer)\n",
    "firmas_corr = calcular_firma_AMOR(datos_alzheimer_corr)"
   ]
  },
  {
   "cell_type": "code",
   "execution_count": null,
   "id": "ba0d9b62",
   "metadata": {},
   "outputs": [],
   "source": [
    "# Simulación más difícil con datos más deteriorados\n",
    "np.random.seed(99)\n",
    "N_REAL = 5\n",
    "datos_alzheimer_realista = np.random.normal(loc=0.6, scale=0.2, size=(N_REAL, N_MODOS))\n",
    "ruido = np.random.normal(0, 0.1, size=(N_REAL, N_MODOS))\n",
    "datos_alzheimer_realista += ruido\n",
    "datos_alzheimer_realista = np.clip(datos_alzheimer_realista, 0.1, 2.0)\n",
    "\n",
    "# Corrección sin entrenamiento\n",
    "datos_alzheimer_corr_realista = datos_alzheimer_realista + (promedio_sano - datos_alzheimer_realista)\n",
    "firmas_alzheimer_realista = calcular_firma_AMOR(datos_alzheimer_realista)\n",
    "firmas_corr_realista = calcular_firma_AMOR(datos_alzheimer_corr_realista)"
   ]
  },
  {
   "cell_type": "code",
   "execution_count": null,
   "id": "5331f61e",
   "metadata": {},
   "outputs": [],
   "source": [
    "# Entrenamiento del modelo (ponderando sanos)\n",
    "datos_entrenamiento = np.concatenate([datos_sanos * 2, datos_alzheimer], axis=0)\n",
    "nuevo_promedio = np.mean(datos_entrenamiento, axis=0)\n",
    "datos_alzheimer_corr_realista_retrain = datos_alzheimer_realista + (nuevo_promedio - datos_alzheimer_realista)\n",
    "firmas_corr_realista_retrain = calcular_firma_AMOR(datos_alzheimer_corr_realista_retrain)"
   ]
  },
  {
   "cell_type": "code",
   "execution_count": null,
   "id": "8b222e50",
   "metadata": {},
   "outputs": [],
   "source": [
    "# Comparación\n",
    "df_comparacion = pd.DataFrame({\n",
    "    \"Sujeto\": [f\"AlzReal_{i+1}\" for i in range(N_REAL)],\n",
    "    \"Firma_AMOR (Antes)\": firmas_alzheimer_realista,\n",
    "    \"Firma_AMOR (Después sin entrenamiento)\": firmas_corr_realista,\n",
    "    \"Firma_AMOR (Después con entrenamiento)\": firmas_corr_realista_retrain\n",
    "})\n",
    "df_comparacion"
   ]
  },
  {
   "cell_type": "code",
   "execution_count": null,
   "id": "d112effd",
   "metadata": {},
   "outputs": [],
   "source": [
    "# Visualización\n",
    "plt.figure(figsize=(10, 6))\n",
    "plt.plot(firmas_alzheimer_realista, label=\"Antes\", marker='x', color='red')\n",
    "plt.plot(firmas_corr_realista, label=\"Sin Entrenamiento\", marker='^', color='blue')\n",
    "plt.plot(firmas_corr_realista_retrain, label=\"Con Entrenamiento\", marker='o', color='green')\n",
    "plt.title(\"Evolución de Firma AMOR - Casos Severos\")\n",
    "plt.xlabel(\"Índice del Sujeto\")\n",
    "plt.ylabel(\"Firma AMOR\")\n",
    "plt.legend()\n",
    "plt.grid(True)\n",
    "plt.tight_layout()\n",
    "plt.show()"
   ]
  }
 ],
 "metadata": {},
 "nbformat": 4,
 "nbformat_minor": 5
}
