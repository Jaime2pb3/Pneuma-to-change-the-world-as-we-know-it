{
 "cells": [
  {
   "cell_type": "markdown",
   "metadata": {},
   "source": [
    "# 🔧 Preparación del entorno e imports"
   ]
  },
  {
   "cell_type": "code",
   "execution_count": 1,
   "metadata": {},
   "outputs": [],
   "source": [
    "from lion_pytorch import Lion  # Asegúrate de tener lion-pytorch instalado\n",
    "from sklearn.metrics.pairwise import cosine_similarity\n",
    "from sklearn.neighbors import NearestNeighbors\n",
    "from tensorflow.keras.layers import Input, Dense\n",
    "from tensorflow.keras.models import Model\n",
    "from tensorflow.keras.optimizers import Adam, AdamW\n",
    "import matplotlib.pyplot as plt\n",
    "import numpy as np\n",
    "import os\n",
    "import pandas as pd\n",
    "import torch"
   ]
  },
  {
   "cell_type": "markdown",
   "metadata": {
    "id": "uOnSKHy4k79g"
   },
   "source": [
    "# 🧠 NeuroCIES Encoder con Frecuencias EEG\n",
    "Reconstrucción neuronal adaptativa avanzada contra Alzheimer."
   ]
  },
  {
   "cell_type": "markdown",
   "metadata": {
    "id": "7HDx0pCBk79i"
   },
   "source": [
    "## 🌀 Fractalización Frecuencial"
   ]
  },
  {
   "cell_type": "code",
   "execution_count": 2,
   "metadata": {
    "id": "pT6oEET5k79i"
   },
   "outputs": [],
   "source": [
    "def fractalizar_frecuencia(vector):\n",
    "    return np.clip(np.sin(np.pi * vector * 3) + vector * 0.5, 0, 1)"
   ]
  },
  {
   "cell_type": "markdown",
   "metadata": {
    "id": "wVgiCzTYk79i"
   },
   "source": [
    "## 📊 Dataset de Frecuencias Cerebrales"
   ]
  },
  {
   "cell_type": "code",
   "execution_count": 3,
   "metadata": {
    "colab": {
     "base_uri": "https://localhost:8080/",
     "height": 206
    },
    "id": "iUH24g58k79i",
    "outputId": "af8d6514-a4ad-42dc-8ac4-b6e268e6c6aa"
   },
   "outputs": [
    {
     "data": {
      "text/html": [
       "<div>\n",
       "<style scoped>\n",
       "    .dataframe tbody tr th:only-of-type {\n",
       "        vertical-align: middle;\n",
       "    }\n",
       "\n",
       "    .dataframe tbody tr th {\n",
       "        vertical-align: top;\n",
       "    }\n",
       "\n",
       "    .dataframe thead th {\n",
       "        text-align: right;\n",
       "    }\n",
       "</style>\n",
       "<table border=\"1\" class=\"dataframe\">\n",
       "  <thead>\n",
       "    <tr style=\"text-align: right;\">\n",
       "      <th></th>\n",
       "      <th>Región</th>\n",
       "      <th>Delta_Sano</th>\n",
       "      <th>Theta_Sano</th>\n",
       "      <th>Alpha_Sano</th>\n",
       "      <th>Beta_Sano</th>\n",
       "      <th>Gamma_Sano</th>\n",
       "      <th>Delta_AD</th>\n",
       "      <th>Theta_AD</th>\n",
       "      <th>Alpha_AD</th>\n",
       "      <th>Beta_AD</th>\n",
       "      <th>Gamma_AD</th>\n",
       "    </tr>\n",
       "  </thead>\n",
       "  <tbody>\n",
       "    <tr>\n",
       "      <th>0</th>\n",
       "      <td>Frontal</td>\n",
       "      <td>0.25</td>\n",
       "      <td>0.30</td>\n",
       "      <td>0.70</td>\n",
       "      <td>0.50</td>\n",
       "      <td>0.60</td>\n",
       "      <td>0.55</td>\n",
       "      <td>0.45</td>\n",
       "      <td>0.42</td>\n",
       "      <td>0.40</td>\n",
       "      <td>0.52</td>\n",
       "    </tr>\n",
       "    <tr>\n",
       "      <th>1</th>\n",
       "      <td>Parietal</td>\n",
       "      <td>0.20</td>\n",
       "      <td>0.28</td>\n",
       "      <td>0.65</td>\n",
       "      <td>0.55</td>\n",
       "      <td>0.62</td>\n",
       "      <td>0.50</td>\n",
       "      <td>0.42</td>\n",
       "      <td>0.39</td>\n",
       "      <td>0.42</td>\n",
       "      <td>0.50</td>\n",
       "    </tr>\n",
       "    <tr>\n",
       "      <th>2</th>\n",
       "      <td>Temporal</td>\n",
       "      <td>0.18</td>\n",
       "      <td>0.25</td>\n",
       "      <td>0.68</td>\n",
       "      <td>0.52</td>\n",
       "      <td>0.61</td>\n",
       "      <td>0.53</td>\n",
       "      <td>0.40</td>\n",
       "      <td>0.41</td>\n",
       "      <td>0.39</td>\n",
       "      <td>0.48</td>\n",
       "    </tr>\n",
       "    <tr>\n",
       "      <th>3</th>\n",
       "      <td>Occipital</td>\n",
       "      <td>0.15</td>\n",
       "      <td>0.23</td>\n",
       "      <td>0.60</td>\n",
       "      <td>0.48</td>\n",
       "      <td>0.58</td>\n",
       "      <td>0.48</td>\n",
       "      <td>0.38</td>\n",
       "      <td>0.36</td>\n",
       "      <td>0.37</td>\n",
       "      <td>0.46</td>\n",
       "    </tr>\n",
       "    <tr>\n",
       "      <th>4</th>\n",
       "      <td>Central</td>\n",
       "      <td>0.22</td>\n",
       "      <td>0.29</td>\n",
       "      <td>0.72</td>\n",
       "      <td>0.54</td>\n",
       "      <td>0.63</td>\n",
       "      <td>0.52</td>\n",
       "      <td>0.44</td>\n",
       "      <td>0.43</td>\n",
       "      <td>0.41</td>\n",
       "      <td>0.51</td>\n",
       "    </tr>\n",
       "  </tbody>\n",
       "</table>\n",
       "</div>"
      ],
      "text/plain": [
       "      Región  Delta_Sano  Theta_Sano  Alpha_Sano  Beta_Sano  Gamma_Sano  \\\n",
       "0    Frontal        0.25        0.30        0.70       0.50        0.60   \n",
       "1   Parietal        0.20        0.28        0.65       0.55        0.62   \n",
       "2   Temporal        0.18        0.25        0.68       0.52        0.61   \n",
       "3  Occipital        0.15        0.23        0.60       0.48        0.58   \n",
       "4    Central        0.22        0.29        0.72       0.54        0.63   \n",
       "\n",
       "   Delta_AD  Theta_AD  Alpha_AD  Beta_AD  Gamma_AD  \n",
       "0      0.55      0.45      0.42     0.40      0.52  \n",
       "1      0.50      0.42      0.39     0.42      0.50  \n",
       "2      0.53      0.40      0.41     0.39      0.48  \n",
       "3      0.48      0.38      0.36     0.37      0.46  \n",
       "4      0.52      0.44      0.43     0.41      0.51  "
      ]
     },
     "execution_count": 3,
     "metadata": {},
     "output_type": "execute_result"
    }
   ],
   "source": [
    "data = { 'Región': ['Frontal', 'Parietal', 'Temporal', 'Occipital', 'Central'],\n",
    "'Delta_Sano':[0.25,0.20,0.18,0.15,0.22],'Theta_Sano':[0.30,0.28,0.25,0.23,0.29],'Alpha_Sano':[0.70,0.65,0.68,0.60,0.72],\n",
    "'Beta_Sano':[0.50,0.55,0.52,0.48,0.54],'Gamma_Sano':[0.60,0.62,0.61,0.58,0.63],\n",
    "'Delta_AD':[0.55,0.50,0.53,0.48,0.52],'Theta_AD':[0.45,0.42,0.40,0.38,0.44],'Alpha_AD':[0.42,0.39,0.41,0.36,0.43],\n",
    "'Beta_AD':[0.40,0.42,0.39,0.37,0.41],'Gamma_AD':[0.52,0.50,0.48,0.46,0.51] }\n",
    "df = pd.DataFrame(data)\n",
    "df"
   ]
  },
  {
   "cell_type": "markdown",
   "metadata": {
    "id": "RzH8_9f-k79i"
   },
   "source": [
    "## ⚙️ Entrenamiento Autoencoder (Adam/RAdam)"
   ]
  },
  {
   "cell_type": "code",
   "execution_count": 4,
   "metadata": {
    "id": "t5-UO_Urk79i"
   },
   "outputs": [
    {
     "ename": "NameError",
     "evalue": "name 'autoencoder' is not defined",
     "output_type": "error",
     "traceback": [
      "\u001b[1;31m---------------------------------------------------------------------------\u001b[0m",
      "\u001b[1;31mNameError\u001b[0m                                 Traceback (most recent call last)",
      "Cell \u001b[1;32mIn[4], line 6\u001b[0m\n\u001b[0;32m      4\u001b[0m encoded \u001b[38;5;241m=\u001b[39m Dense(\u001b[38;5;241m3\u001b[39m, activation\u001b[38;5;241m=\u001b[39m\u001b[38;5;124m'\u001b[39m\u001b[38;5;124mrelu\u001b[39m\u001b[38;5;124m'\u001b[39m)(input_layer)\n\u001b[0;32m      5\u001b[0m decoded \u001b[38;5;241m=\u001b[39m Dense(input_dim, activation\u001b[38;5;241m=\u001b[39m\u001b[38;5;124m'\u001b[39m\u001b[38;5;124msigmoid\u001b[39m\u001b[38;5;124m'\u001b[39m)(encoded)\n\u001b[1;32m----> 6\u001b[0m autoencoder\u001b[38;5;241m.\u001b[39mcompile(optimizer\u001b[38;5;241m=\u001b[39mAdam(\u001b[38;5;241m0.01\u001b[39m), loss\u001b[38;5;241m=\u001b[39m\u001b[38;5;124m'\u001b[39m\u001b[38;5;124mmse\u001b[39m\u001b[38;5;124m'\u001b[39m)\n\u001b[0;32m      7\u001b[0m history \u001b[38;5;241m=\u001b[39m autoencoder\u001b[38;5;241m.\u001b[39mfit(X_sano, X_sano, epochs\u001b[38;5;241m=\u001b[39m\u001b[38;5;241m18000\u001b[39m, verbose\u001b[38;5;241m=\u001b[39m\u001b[38;5;241m0\u001b[39m)\n\u001b[0;32m      8\u001b[0m autoencoder\u001b[38;5;241m.\u001b[39mcompile(optimizer \u001b[38;5;241m=\u001b[39m AdamW(learning_rate\u001b[38;5;241m=\u001b[39m\u001b[38;5;241m0.001\u001b[39m, weight_decay\u001b[38;5;241m=\u001b[39m\u001b[38;5;241m1e-5\u001b[39m), loss\u001b[38;5;241m=\u001b[39m\u001b[38;5;124m'\u001b[39m\u001b[38;5;124mmse\u001b[39m\u001b[38;5;124m'\u001b[39m)\n",
      "\u001b[1;31mNameError\u001b[0m: name 'autoencoder' is not defined"
     ]
    }
   ],
   "source": [
    "X_sano, X_ad = df.iloc[:, 1:6].values, df.iloc[:, 6:].values\n",
    "input_dim = X_sano.shape[1]\n",
    "input_layer = Input(shape=(input_dim,))\n",
    "encoded = Dense(3, activation='relu')(input_layer)\n",
    "decoded = Dense(input_dim, activation='sigmoid')(encoded)\n",
    "autoencoder.compile(optimizer=Adam(0.01), loss='mse')\n",
    "history = autoencoder.fit(X_sano, X_sano, epochs=18000, verbose=0)\n",
    "autoencoder.compile(optimizer = AdamW(learning_rate=0.001, weight_decay=1e-5), loss='mse')\n",
    "history_fine = autoencoder.fit(X_sano, X_sano, epochs=10000, verbose=0)"
   ]
  },
  {
   "cell_type": "markdown",
   "metadata": {
    "id": "emTgEPCqk79i"
   },
   "source": [
    "## 📉 Visualización explícita de pérdida (Loss)"
   ]
  },
  {
   "cell_type": "code",
   "execution_count": null,
   "metadata": {
    "colab": {
     "base_uri": "https://localhost:8080/",
     "height": 489
    },
    "id": "lKAu6Uyyk79j",
    "outputId": "84747cb8-692d-4978-bde6-cd8145c8b847"
   },
   "outputs": [],
   "source": [
    "plt.figure(figsize=(10,5))\n",
    "plt.plot(history.history['loss'] + history_fine.history['loss'], label='Pérdida (Loss)')\n",
    "plt.title('Pérdida del Entrenamiento del Autoencoder')\n",
    "plt.xlabel('Época'); plt.ylabel('Loss'); plt.legend()\n",
    "plt.show()"
   ]
  },
  {
   "cell_type": "markdown",
   "metadata": {
    "id": "39R2-M3Hk79j"
   },
   "source": [
    "## 🌌 Reconstrucción con Levofrecuencia Adaptativa"
   ]
  },
  {
   "cell_type": "code",
   "execution_count": null,
   "metadata": {
    "id": "wR5bKphkk79j"
   },
   "outputs": [],
   "source": [
    "def levofrecuencia_adaptativa(vec,ae,orig,e=25,d=0.05,lr=0.1):\n",
    "    best, best_cos, mod, delta = vec, 0, vec.copy(), d\n",
    "    for _ in range(e):\n",
    "        mod = np.clip(-mod + np.random.uniform(-delta,delta,vec.shape) + 0.1*np.sin(2*np.pi*mod),0,1)\n",
    "        rec = ae.predict(mod.reshape(1,-1),verbose=0)\n",
    "        cos = cosine_similarity(orig.reshape(1,-1), rec)[0,0]\n",
    "        if cos>best_cos: best_cos, best = cos, mod\n",
    "        delta*=(1-cos)*lr\n",
    "    return best"
   ]
  },
  {
   "cell_type": "markdown",
   "metadata": {
    "id": "4z8do0Dsk79j"
   },
   "source": [
    "## 🔎 Localización Explícita de Redes Alternas (Memoria Inaccesible)"
   ]
  },
  {
   "cell_type": "code",
   "execution_count": null,
   "metadata": {
    "id": "8sHt1ZsGk79j"
   },
   "outputs": [],
   "source": [
    "neighbors = NearestNeighbors(n_neighbors=1).fit(X_sano)\n",
    "reconstrucciones,resonancias=[],[]\n",
    "for i,original in enumerate(X_ad):\n",
    "    rec=autoencoder.predict(original.reshape(1,-1),verbose=0)\n",
    "    cos=cosine_similarity(original.reshape(1,-1),rec)[0][0]\n",
    "    if cos<0.98:\n",
    "        mod=levofrecuencia_adaptativa(rec[0],autoencoder,original)\n",
    "        rec_mod=autoencoder.predict(mod.reshape(1,-1),verbose=0)\n",
    "        cos_mod=cosine_similarity(original.reshape(1,-1),rec_mod)[0][0]\n",
    "        if cos_mod<0.98:\n",
    "            _,idx=neighbors.kneighbors(rec_mod)\n",
    "            rec_mod=X_sano[idx[0][0]]\n",
    "        reconstrucciones.append(rec_mod)\n",
    "        resonancias.append(max(cos,cos_mod))\n",
    "    else:\n",
    "        reconstrucciones.append(rec)\n",
    "        resonancias.append(cos)\n",
    "reconstrucciones=np.array(reconstrucciones)"
   ]
  },
  {
   "cell_type": "code",
   "execution_count": null,
   "metadata": {
    "colab": {
     "base_uri": "https://localhost:8080/"
    },
    "id": "ng7Qa2HWpBzw",
    "outputId": "e0973120-3521-4594-919d-71d9b3ad3c0f"
   },
   "outputs": [],
   "source": [
    "# 🧠 Guarda el modelo entrenado completo (estructura + pesos + config)\n",
    "autoencoder.save(\"NeuroCIES_Encoder_Optimo.h5\")\n",
    "\n",
    "print(\"✅ Modelo guardado como: NeuroCIES_Encoder_Optimo.h5\")\n"
   ]
  }
 ],
 "metadata": {
  "colab": {
   "provenance": []
  },
  "kernelspec": {
   "display_name": "Python (tf_env)",
   "language": "python",
   "name": "tf_env"
  },
  "language_info": {
   "codemirror_mode": {
    "name": "ipython",
    "version": 3
   },
   "file_extension": ".py",
   "mimetype": "text/x-python",
   "name": "python",
   "nbconvert_exporter": "python",
   "pygments_lexer": "ipython3",
   "version": "3.12.3"
  }
 },
 "nbformat": 4,
 "nbformat_minor": 4
}
